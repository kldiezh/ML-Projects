{
 "cells": [
  {
   "cell_type": "markdown",
   "id": "planned-atmosphere",
   "metadata": {},
   "source": [
    "### Importing libraries for data processing, visualization and machine learning"
   ]
  },
  {
   "cell_type": "code",
   "execution_count": 1,
   "id": "organic-argument",
   "metadata": {},
   "outputs": [],
   "source": [
    "import pandas as pd\n",
    "import numpy as np\n",
    "import matplotlib.pyplot as plt\n",
    "import seaborn as sns"
   ]
  },
  {
   "cell_type": "code",
   "execution_count": 2,
   "id": "advanced-northeast",
   "metadata": {},
   "outputs": [],
   "source": [
    "from sklearn.preprocessing import StandardScaler\n",
    "from sklearn.preprocessing import LabelEncoder"
   ]
  },
  {
   "cell_type": "code",
   "execution_count": 3,
   "id": "advised-importance",
   "metadata": {},
   "outputs": [],
   "source": [
    "from sklearn.model_selection import train_test_split\n",
    "from sklearn.metrics import classification_report, confusion_matrix\n",
    "from sklearn.linear_model import LogisticRegression\n",
    "from sklearn.ensemble import RandomForestClassifier\n",
    "from sklearn.svm import SVC\n",
    "from sklearn.neighbors import KNeighborsClassifier\n",
    "from sklearn.naive_bayes import GaussianNB"
   ]
  },
  {
   "cell_type": "markdown",
   "id": "funded-embassy",
   "metadata": {},
   "source": [
    "### Loading and exploring data"
   ]
  },
  {
   "cell_type": "code",
   "execution_count": 4,
   "id": "atomic-communist",
   "metadata": {},
   "outputs": [],
   "source": [
    "df=pd.read_csv(\"consumer_electronics_sales_data.csv\")"
   ]
  },
  {
   "cell_type": "code",
   "execution_count": 5,
   "id": "amended-cradle",
   "metadata": {},
   "outputs": [
    {
     "data": {
      "text/html": [
       "<div>\n",
       "<style scoped>\n",
       "    .dataframe tbody tr th:only-of-type {\n",
       "        vertical-align: middle;\n",
       "    }\n",
       "\n",
       "    .dataframe tbody tr th {\n",
       "        vertical-align: top;\n",
       "    }\n",
       "\n",
       "    .dataframe thead th {\n",
       "        text-align: right;\n",
       "    }\n",
       "</style>\n",
       "<table border=\"1\" class=\"dataframe\">\n",
       "  <thead>\n",
       "    <tr style=\"text-align: right;\">\n",
       "      <th></th>\n",
       "      <th>ProductID</th>\n",
       "      <th>ProductCategory</th>\n",
       "      <th>ProductBrand</th>\n",
       "      <th>ProductPrice</th>\n",
       "      <th>CustomerAge</th>\n",
       "      <th>CustomerGender</th>\n",
       "      <th>PurchaseFrequency</th>\n",
       "      <th>CustomerSatisfaction</th>\n",
       "      <th>PurchaseIntent</th>\n",
       "    </tr>\n",
       "  </thead>\n",
       "  <tbody>\n",
       "    <tr>\n",
       "      <th>0</th>\n",
       "      <td>5874</td>\n",
       "      <td>Smartphones</td>\n",
       "      <td>Other Brands</td>\n",
       "      <td>312.949668</td>\n",
       "      <td>18</td>\n",
       "      <td>0</td>\n",
       "      <td>2</td>\n",
       "      <td>1</td>\n",
       "      <td>0</td>\n",
       "    </tr>\n",
       "    <tr>\n",
       "      <th>1</th>\n",
       "      <td>5875</td>\n",
       "      <td>Smart Watches</td>\n",
       "      <td>Samsung</td>\n",
       "      <td>980.389404</td>\n",
       "      <td>35</td>\n",
       "      <td>1</td>\n",
       "      <td>7</td>\n",
       "      <td>2</td>\n",
       "      <td>1</td>\n",
       "    </tr>\n",
       "    <tr>\n",
       "      <th>2</th>\n",
       "      <td>5876</td>\n",
       "      <td>Tablets</td>\n",
       "      <td>Samsung</td>\n",
       "      <td>2606.718293</td>\n",
       "      <td>63</td>\n",
       "      <td>0</td>\n",
       "      <td>1</td>\n",
       "      <td>5</td>\n",
       "      <td>1</td>\n",
       "    </tr>\n",
       "    <tr>\n",
       "      <th>3</th>\n",
       "      <td>5877</td>\n",
       "      <td>Smartphones</td>\n",
       "      <td>Samsung</td>\n",
       "      <td>870.395450</td>\n",
       "      <td>63</td>\n",
       "      <td>1</td>\n",
       "      <td>10</td>\n",
       "      <td>3</td>\n",
       "      <td>1</td>\n",
       "    </tr>\n",
       "    <tr>\n",
       "      <th>4</th>\n",
       "      <td>5878</td>\n",
       "      <td>Tablets</td>\n",
       "      <td>Sony</td>\n",
       "      <td>1798.955875</td>\n",
       "      <td>57</td>\n",
       "      <td>0</td>\n",
       "      <td>17</td>\n",
       "      <td>3</td>\n",
       "      <td>0</td>\n",
       "    </tr>\n",
       "  </tbody>\n",
       "</table>\n",
       "</div>"
      ],
      "text/plain": [
       "   ProductID ProductCategory  ProductBrand  ProductPrice  CustomerAge  \\\n",
       "0       5874     Smartphones  Other Brands    312.949668           18   \n",
       "1       5875   Smart Watches       Samsung    980.389404           35   \n",
       "2       5876         Tablets       Samsung   2606.718293           63   \n",
       "3       5877     Smartphones       Samsung    870.395450           63   \n",
       "4       5878         Tablets          Sony   1798.955875           57   \n",
       "\n",
       "   CustomerGender  PurchaseFrequency  CustomerSatisfaction  PurchaseIntent  \n",
       "0               0                  2                     1               0  \n",
       "1               1                  7                     2               1  \n",
       "2               0                  1                     5               1  \n",
       "3               1                 10                     3               1  \n",
       "4               0                 17                     3               0  "
      ]
     },
     "execution_count": 5,
     "metadata": {},
     "output_type": "execute_result"
    }
   ],
   "source": [
    "df.head()"
   ]
  },
  {
   "cell_type": "code",
   "execution_count": 6,
   "id": "pleased-begin",
   "metadata": {},
   "outputs": [
    {
     "name": "stdout",
     "output_type": "stream",
     "text": [
      "<class 'pandas.core.frame.DataFrame'>\n",
      "RangeIndex: 9000 entries, 0 to 8999\n",
      "Data columns (total 9 columns):\n",
      " #   Column                Non-Null Count  Dtype  \n",
      "---  ------                --------------  -----  \n",
      " 0   ProductID             9000 non-null   int64  \n",
      " 1   ProductCategory       9000 non-null   object \n",
      " 2   ProductBrand          9000 non-null   object \n",
      " 3   ProductPrice          9000 non-null   float64\n",
      " 4   CustomerAge           9000 non-null   int64  \n",
      " 5   CustomerGender        9000 non-null   int64  \n",
      " 6   PurchaseFrequency     9000 non-null   int64  \n",
      " 7   CustomerSatisfaction  9000 non-null   int64  \n",
      " 8   PurchaseIntent        9000 non-null   int64  \n",
      "dtypes: float64(1), int64(6), object(2)\n",
      "memory usage: 632.9+ KB\n"
     ]
    }
   ],
   "source": [
    "df.info()"
   ]
  },
  {
   "cell_type": "code",
   "execution_count": 7,
   "id": "addressed-royalty",
   "metadata": {},
   "outputs": [
    {
     "data": {
      "text/plain": [
       "ProductID               0\n",
       "ProductCategory         0\n",
       "ProductBrand            0\n",
       "ProductPrice            0\n",
       "CustomerAge             0\n",
       "CustomerGender          0\n",
       "PurchaseFrequency       0\n",
       "CustomerSatisfaction    0\n",
       "PurchaseIntent          0\n",
       "dtype: int64"
      ]
     },
     "execution_count": 7,
     "metadata": {},
     "output_type": "execute_result"
    }
   ],
   "source": [
    "df.isnull().sum()"
   ]
  },
  {
   "cell_type": "code",
   "execution_count": 8,
   "id": "downtown-philadelphia",
   "metadata": {},
   "outputs": [
    {
     "data": {
      "text/html": [
       "<div>\n",
       "<style scoped>\n",
       "    .dataframe tbody tr th:only-of-type {\n",
       "        vertical-align: middle;\n",
       "    }\n",
       "\n",
       "    .dataframe tbody tr th {\n",
       "        vertical-align: top;\n",
       "    }\n",
       "\n",
       "    .dataframe thead th {\n",
       "        text-align: right;\n",
       "    }\n",
       "</style>\n",
       "<table border=\"1\" class=\"dataframe\">\n",
       "  <thead>\n",
       "    <tr style=\"text-align: right;\">\n",
       "      <th></th>\n",
       "      <th>ProductID</th>\n",
       "      <th>ProductPrice</th>\n",
       "      <th>CustomerAge</th>\n",
       "      <th>CustomerGender</th>\n",
       "      <th>PurchaseFrequency</th>\n",
       "      <th>CustomerSatisfaction</th>\n",
       "      <th>PurchaseIntent</th>\n",
       "    </tr>\n",
       "  </thead>\n",
       "  <tbody>\n",
       "    <tr>\n",
       "      <th>count</th>\n",
       "      <td>9000.000000</td>\n",
       "      <td>9000.000000</td>\n",
       "      <td>9000.000000</td>\n",
       "      <td>9000.000000</td>\n",
       "      <td>9000.000000</td>\n",
       "      <td>9000.000000</td>\n",
       "      <td>9000.000000</td>\n",
       "    </tr>\n",
       "    <tr>\n",
       "      <th>mean</th>\n",
       "      <td>10373.500000</td>\n",
       "      <td>1527.429195</td>\n",
       "      <td>43.347000</td>\n",
       "      <td>0.508889</td>\n",
       "      <td>10.054667</td>\n",
       "      <td>2.996000</td>\n",
       "      <td>0.566444</td>\n",
       "    </tr>\n",
       "    <tr>\n",
       "      <th>std</th>\n",
       "      <td>2598.220545</td>\n",
       "      <td>829.900898</td>\n",
       "      <td>15.055084</td>\n",
       "      <td>0.499949</td>\n",
       "      <td>5.461328</td>\n",
       "      <td>1.405301</td>\n",
       "      <td>0.495593</td>\n",
       "    </tr>\n",
       "    <tr>\n",
       "      <th>min</th>\n",
       "      <td>5874.000000</td>\n",
       "      <td>100.376358</td>\n",
       "      <td>18.000000</td>\n",
       "      <td>0.000000</td>\n",
       "      <td>1.000000</td>\n",
       "      <td>1.000000</td>\n",
       "      <td>0.000000</td>\n",
       "    </tr>\n",
       "    <tr>\n",
       "      <th>25%</th>\n",
       "      <td>8123.750000</td>\n",
       "      <td>809.165014</td>\n",
       "      <td>30.000000</td>\n",
       "      <td>0.000000</td>\n",
       "      <td>5.000000</td>\n",
       "      <td>2.000000</td>\n",
       "      <td>0.000000</td>\n",
       "    </tr>\n",
       "    <tr>\n",
       "      <th>50%</th>\n",
       "      <td>10373.500000</td>\n",
       "      <td>1513.024577</td>\n",
       "      <td>43.000000</td>\n",
       "      <td>1.000000</td>\n",
       "      <td>10.000000</td>\n",
       "      <td>3.000000</td>\n",
       "      <td>1.000000</td>\n",
       "    </tr>\n",
       "    <tr>\n",
       "      <th>75%</th>\n",
       "      <td>12623.250000</td>\n",
       "      <td>2244.415520</td>\n",
       "      <td>56.000000</td>\n",
       "      <td>1.000000</td>\n",
       "      <td>15.000000</td>\n",
       "      <td>4.000000</td>\n",
       "      <td>1.000000</td>\n",
       "    </tr>\n",
       "    <tr>\n",
       "      <th>max</th>\n",
       "      <td>14873.000000</td>\n",
       "      <td>2999.852253</td>\n",
       "      <td>69.000000</td>\n",
       "      <td>1.000000</td>\n",
       "      <td>19.000000</td>\n",
       "      <td>5.000000</td>\n",
       "      <td>1.000000</td>\n",
       "    </tr>\n",
       "  </tbody>\n",
       "</table>\n",
       "</div>"
      ],
      "text/plain": [
       "          ProductID  ProductPrice  CustomerAge  CustomerGender  \\\n",
       "count   9000.000000   9000.000000  9000.000000     9000.000000   \n",
       "mean   10373.500000   1527.429195    43.347000        0.508889   \n",
       "std     2598.220545    829.900898    15.055084        0.499949   \n",
       "min     5874.000000    100.376358    18.000000        0.000000   \n",
       "25%     8123.750000    809.165014    30.000000        0.000000   \n",
       "50%    10373.500000   1513.024577    43.000000        1.000000   \n",
       "75%    12623.250000   2244.415520    56.000000        1.000000   \n",
       "max    14873.000000   2999.852253    69.000000        1.000000   \n",
       "\n",
       "       PurchaseFrequency  CustomerSatisfaction  PurchaseIntent  \n",
       "count        9000.000000           9000.000000     9000.000000  \n",
       "mean           10.054667              2.996000        0.566444  \n",
       "std             5.461328              1.405301        0.495593  \n",
       "min             1.000000              1.000000        0.000000  \n",
       "25%             5.000000              2.000000        0.000000  \n",
       "50%            10.000000              3.000000        1.000000  \n",
       "75%            15.000000              4.000000        1.000000  \n",
       "max            19.000000              5.000000        1.000000  "
      ]
     },
     "execution_count": 8,
     "metadata": {},
     "output_type": "execute_result"
    }
   ],
   "source": [
    "df.describe()"
   ]
  },
  {
   "cell_type": "markdown",
   "id": "ranking-playing",
   "metadata": {},
   "source": [
    "### Data analysis"
   ]
  },
  {
   "cell_type": "code",
   "execution_count": 9,
   "id": "recovered-slovak",
   "metadata": {},
   "outputs": [],
   "source": [
    "# Converting categorical columns into numerical ones.\n",
    "\n",
    "df['ProductCategory'] = LabelEncoder().fit_transform(df['ProductCategory'])\n",
    "df['ProductBrand'] = LabelEncoder().fit_transform(df['ProductBrand'])"
   ]
  },
  {
   "cell_type": "code",
   "execution_count": 24,
   "id": "coupled-savings",
   "metadata": {},
   "outputs": [
    {
     "data": {
      "image/png": "[encoded data removed]",
      "text/plain": [
       "<Figure size 864x720 with 2 Axes>"
      ]
     },
     "metadata": {
      "needs_background": "light"
     },
     "output_type": "display_data"
    }
   ],
   "source": [
    "# Correlation matrix - Heatmap\n",
    "\n",
    "plt.figure(figsize=(12, 10))\n",
    "sns.heatmap(df.corr(), annot=True, cmap='plasma', linecolor='white', linewidths=1)\n",
    "plt.title('Correlation Matrix')\n",
    "plt.show()"
   ]
  },
  {
   "cell_type": "markdown",
   "id": "banned-owner",
   "metadata": {},
   "source": [
    "### Machine Learning"
   ]
  },
  {
   "cell_type": "code",
   "execution_count": 10,
   "id": "cheap-median",
   "metadata": {},
   "outputs": [],
   "source": [
    "# Features and labels\n",
    "# 'ProductID' has no influence on the analysis, so it is removed from X.\n",
    "\n",
    "X = df.drop(['ProductID', 'PurchaseIntent'], axis=1)\n",
    "y = df['PurchaseIntent']"
   ]
  },
  {
   "cell_type": "code",
   "execution_count": 11,
   "id": "practical-webster",
   "metadata": {},
   "outputs": [],
   "source": [
    "# splitting data into train/test\n",
    "\n",
    "X_train, X_test, y_train, y_test = train_test_split(X, y, test_size=0.2, random_state=42)"
   ]
  },
  {
   "cell_type": "code",
   "execution_count": 12,
   "id": "annual-secretary",
   "metadata": {},
   "outputs": [],
   "source": [
    "# data standardization\n",
    "\n",
    "scaler = StandardScaler()\n",
    "X_train = scaler.fit_transform(X_train)\n",
    "X_test = scaler.transform(X_test)"
   ]
  },
  {
   "cell_type": "code",
   "execution_count": 13,
   "id": "single-cornwall",
   "metadata": {},
   "outputs": [
    {
     "name": "stdout",
     "output_type": "stream",
     "text": [
      "Model: Logistic Regression\n",
      "              precision    recall  f1-score   support\n",
      "\n",
      "           0       0.85      0.81      0.83       793\n",
      "           1       0.86      0.88      0.87      1007\n",
      "\n",
      "    accuracy                           0.85      1800\n",
      "   macro avg       0.85      0.85      0.85      1800\n",
      "weighted avg       0.85      0.85      0.85      1800\n",
      "\n",
      "[[644 149]\n",
      " [117 890]]\n",
      "\n",
      "\n",
      "Model: Random Forest\n",
      "              precision    recall  f1-score   support\n",
      "\n",
      "           0       0.96      0.94      0.95       793\n",
      "           1       0.95      0.97      0.96      1007\n",
      "\n",
      "    accuracy                           0.95      1800\n",
      "   macro avg       0.95      0.95      0.95      1800\n",
      "weighted avg       0.95      0.95      0.95      1800\n",
      "\n",
      "[[742  51]\n",
      " [ 34 973]]\n",
      "\n",
      "\n",
      "Model: SVM\n",
      "              precision    recall  f1-score   support\n",
      "\n",
      "           0       0.93      0.90      0.92       793\n",
      "           1       0.93      0.95      0.94      1007\n",
      "\n",
      "    accuracy                           0.93      1800\n",
      "   macro avg       0.93      0.93      0.93      1800\n",
      "weighted avg       0.93      0.93      0.93      1800\n",
      "\n",
      "[[716  77]\n",
      " [ 52 955]]\n",
      "\n",
      "\n",
      "Model: K-Nearest Neighbors\n",
      "              precision    recall  f1-score   support\n",
      "\n",
      "           0       0.92      0.90      0.91       793\n",
      "           1       0.92      0.93      0.93      1007\n",
      "\n",
      "    accuracy                           0.92      1800\n",
      "   macro avg       0.92      0.92      0.92      1800\n",
      "weighted avg       0.92      0.92      0.92      1800\n",
      "\n",
      "[[711  82]\n",
      " [ 66 941]]\n",
      "\n",
      "\n",
      "Model: Naive Bayes\n",
      "              precision    recall  f1-score   support\n",
      "\n",
      "           0       0.89      0.80      0.84       793\n",
      "           1       0.85      0.92      0.88      1007\n",
      "\n",
      "    accuracy                           0.87      1800\n",
      "   macro avg       0.87      0.86      0.86      1800\n",
      "weighted avg       0.87      0.87      0.86      1800\n",
      "\n",
      "[[632 161]\n",
      " [ 81 926]]\n",
      "\n",
      "\n"
     ]
    }
   ],
   "source": [
    "# Training and evaluation - Classification report and confusion matrix.\n",
    "\n",
    "models = {\n",
    "    'Logistic Regression': LogisticRegression(),\n",
    "    'Random Forest': RandomForestClassifier(),\n",
    "    'SVM': SVC(),\n",
    "    'K-Nearest Neighbors': KNeighborsClassifier(),\n",
    "    'Naive Bayes': GaussianNB()\n",
    "}\n",
    "\n",
    "for name, model in models.items():\n",
    "    model.fit(X_train, y_train)\n",
    "    y_pred = model.predict(X_test)\n",
    "    print(f\"Model: {name}\")\n",
    "    print(classification_report(y_test, y_pred))\n",
    "    print(confusion_matrix(y_test, y_pred))\n",
    "    print(\"\\n\")"
   ]
  },
  {
   "cell_type": "code",
   "execution_count": null,
   "id": "aware-citizenship",
   "metadata": {},
   "outputs": [],
   "source": []
  }
 ],
 "metadata": {
  "kernelspec": {
   "display_name": "Python 3",
   "language": "python",
   "name": "python3"
  },
  "language_info": {
   "codemirror_mode": {
    "name": "ipython",
    "version": 3
   },
   "file_extension": ".py",
   "mimetype": "text/x-python",
   "name": "python",
   "nbconvert_exporter": "python",
   "pygments_lexer": "ipython3",
   "version": "3.8.5"
  }
 },
 "nbformat": 4,
 "nbformat_minor": 5
}
